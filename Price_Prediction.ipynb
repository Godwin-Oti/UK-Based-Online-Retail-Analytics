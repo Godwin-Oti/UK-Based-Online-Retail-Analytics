{
 "cells": [
  {
   "cell_type": "code",
   "execution_count": 1,
   "metadata": {},
   "outputs": [],
   "source": [
    "import pandas as pd\n",
    "import numpy as np\n",
    "import matplotlib.pyplot as plt\n",
    "import seaborn as sns\n",
    "from sklearn.cluster import KMeans\n",
    "from sklearn.preprocessing import StandardScaler\n",
    "from collections import Counter\n",
    "import plotly.express as px\n",
    "from sklearn.cluster import DBSCAN\n",
    "import xgboost as xgb\n",
    "import lightgbm as lgb\n"
   ]
  },
  {
   "cell_type": "code",
   "execution_count": 2,
   "metadata": {},
   "outputs": [],
   "source": [
    "online_retail_cleaned_no_cancellations=pd.read_csv(r\"C:\\Desktop\\UK Based Retail Analytics\\online_retail_cleaned_no_cancellations.csv\")"
   ]
  },
  {
   "cell_type": "code",
   "execution_count": null,
   "metadata": {},
   "outputs": [],
   "source": [
    "online_retail_cleaned_no_cancellations=pd.read_csv(\"cleaned_online_retail_data_no_cancellations_no_outliers_for_clustering.csv\")\n"
   ]
  },
  {
   "cell_type": "code",
   "execution_count": null,
   "metadata": {},
   "outputs": [
    {
     "data": {
      "text/html": [
       "<div>\n",
       "<style scoped>\n",
       "    .dataframe tbody tr th:only-of-type {\n",
       "        vertical-align: middle;\n",
       "    }\n",
       "\n",
       "    .dataframe tbody tr th {\n",
       "        vertical-align: top;\n",
       "    }\n",
       "\n",
       "    .dataframe thead th {\n",
       "        text-align: right;\n",
       "    }\n",
       "</style>\n",
       "<table border=\"1\" class=\"dataframe\">\n",
       "  <thead>\n",
       "    <tr style=\"text-align: right;\">\n",
       "      <th></th>\n",
       "      <th>InvoiceNo</th>\n",
       "      <th>StockCode</th>\n",
       "      <th>Description</th>\n",
       "      <th>Quantity</th>\n",
       "      <th>InvoiceDate</th>\n",
       "      <th>UnitPrice(£)</th>\n",
       "      <th>CustomerID</th>\n",
       "      <th>Country</th>\n",
       "      <th>Sales(£)</th>\n",
       "      <th>InvoiceMonth</th>\n",
       "      <th>InvoiceDay</th>\n",
       "      <th>InvoiceHour</th>\n",
       "      <th>InvoiceWeekday</th>\n",
       "      <th>is_canceled</th>\n",
       "    </tr>\n",
       "  </thead>\n",
       "  <tbody>\n",
       "    <tr>\n",
       "      <th>0</th>\n",
       "      <td>536365</td>\n",
       "      <td>85123A</td>\n",
       "      <td>WHITE HANGING HEART T-LIGHT HOLDER</td>\n",
       "      <td>6</td>\n",
       "      <td>2010-12-01 08:26:00</td>\n",
       "      <td>2.55</td>\n",
       "      <td>17850.0</td>\n",
       "      <td>United Kingdom</td>\n",
       "      <td>15.30</td>\n",
       "      <td>12</td>\n",
       "      <td>1</td>\n",
       "      <td>8</td>\n",
       "      <td>2</td>\n",
       "      <td>False</td>\n",
       "    </tr>\n",
       "    <tr>\n",
       "      <th>1</th>\n",
       "      <td>536365</td>\n",
       "      <td>71053</td>\n",
       "      <td>WHITE METAL LANTERN</td>\n",
       "      <td>6</td>\n",
       "      <td>2010-12-01 08:26:00</td>\n",
       "      <td>3.39</td>\n",
       "      <td>17850.0</td>\n",
       "      <td>United Kingdom</td>\n",
       "      <td>20.34</td>\n",
       "      <td>12</td>\n",
       "      <td>1</td>\n",
       "      <td>8</td>\n",
       "      <td>2</td>\n",
       "      <td>False</td>\n",
       "    </tr>\n",
       "    <tr>\n",
       "      <th>2</th>\n",
       "      <td>536365</td>\n",
       "      <td>84406B</td>\n",
       "      <td>CREAM CUPID HEARTS COAT HANGER</td>\n",
       "      <td>8</td>\n",
       "      <td>2010-12-01 08:26:00</td>\n",
       "      <td>2.75</td>\n",
       "      <td>17850.0</td>\n",
       "      <td>United Kingdom</td>\n",
       "      <td>22.00</td>\n",
       "      <td>12</td>\n",
       "      <td>1</td>\n",
       "      <td>8</td>\n",
       "      <td>2</td>\n",
       "      <td>False</td>\n",
       "    </tr>\n",
       "    <tr>\n",
       "      <th>3</th>\n",
       "      <td>536365</td>\n",
       "      <td>84029G</td>\n",
       "      <td>KNITTED UNION FLAG HOT WATER BOTTLE</td>\n",
       "      <td>6</td>\n",
       "      <td>2010-12-01 08:26:00</td>\n",
       "      <td>3.39</td>\n",
       "      <td>17850.0</td>\n",
       "      <td>United Kingdom</td>\n",
       "      <td>20.34</td>\n",
       "      <td>12</td>\n",
       "      <td>1</td>\n",
       "      <td>8</td>\n",
       "      <td>2</td>\n",
       "      <td>False</td>\n",
       "    </tr>\n",
       "    <tr>\n",
       "      <th>4</th>\n",
       "      <td>536365</td>\n",
       "      <td>84029E</td>\n",
       "      <td>RED WOOLLY HOTTIE WHITE HEART.</td>\n",
       "      <td>6</td>\n",
       "      <td>2010-12-01 08:26:00</td>\n",
       "      <td>3.39</td>\n",
       "      <td>17850.0</td>\n",
       "      <td>United Kingdom</td>\n",
       "      <td>20.34</td>\n",
       "      <td>12</td>\n",
       "      <td>1</td>\n",
       "      <td>8</td>\n",
       "      <td>2</td>\n",
       "      <td>False</td>\n",
       "    </tr>\n",
       "  </tbody>\n",
       "</table>\n",
       "</div>"
      ],
      "text/plain": [
       "   InvoiceNo StockCode                          Description  Quantity  \\\n",
       "0     536365    85123A   WHITE HANGING HEART T-LIGHT HOLDER         6   \n",
       "1     536365     71053                  WHITE METAL LANTERN         6   \n",
       "2     536365    84406B       CREAM CUPID HEARTS COAT HANGER         8   \n",
       "3     536365    84029G  KNITTED UNION FLAG HOT WATER BOTTLE         6   \n",
       "4     536365    84029E       RED WOOLLY HOTTIE WHITE HEART.         6   \n",
       "\n",
       "           InvoiceDate  UnitPrice(£)  CustomerID         Country  Sales(£)  \\\n",
       "0  2010-12-01 08:26:00          2.55     17850.0  United Kingdom     15.30   \n",
       "1  2010-12-01 08:26:00          3.39     17850.0  United Kingdom     20.34   \n",
       "2  2010-12-01 08:26:00          2.75     17850.0  United Kingdom     22.00   \n",
       "3  2010-12-01 08:26:00          3.39     17850.0  United Kingdom     20.34   \n",
       "4  2010-12-01 08:26:00          3.39     17850.0  United Kingdom     20.34   \n",
       "\n",
       "   InvoiceMonth  InvoiceDay  InvoiceHour  InvoiceWeekday  is_canceled  \n",
       "0            12           1            8               2        False  \n",
       "1            12           1            8               2        False  \n",
       "2            12           1            8               2        False  \n",
       "3            12           1            8               2        False  \n",
       "4            12           1            8               2        False  "
      ]
     },
     "execution_count": 7,
     "metadata": {},
     "output_type": "execute_result"
    }
   ],
   "source": [
    "online_retail_cleaned_no_cancellations.head()"
   ]
  },
  {
   "cell_type": "markdown",
   "metadata": {},
   "source": [
    "## Step 1: Feature Engineering"
   ]
  },
  {
   "cell_type": "markdown",
   "metadata": {},
   "source": [
    "### 1.3 Lagged Averages for Price and Quantity Trends\n"
   ]
  },
  {
   "cell_type": "code",
   "execution_count": null,
   "metadata": {},
   "outputs": [],
   "source": [
    "\"\"\"\"Detecting price and quantity trends, to compute the lagged averages for UnitPrice(£) and Quantity per product.\"\"\""
   ]
  },
  {
   "cell_type": "code",
   "execution_count": 3,
   "metadata": {},
   "outputs": [
    {
     "name": "stdout",
     "output_type": "stream",
     "text": [
      "  StockCode  Quantity_Lagged_Avg  UnitPrice_Lagged_Avg\n",
      "0    85123A                  NaN                   NaN\n",
      "1     71053                  NaN                   NaN\n",
      "2    84406B                  NaN                   NaN\n",
      "3    84029G                  NaN                   NaN\n",
      "4    84029E                  NaN                   NaN\n"
     ]
    }
   ],
   "source": [
    "# Lagged average for Quantity and UnitPrice for each product (StockCode)\n",
    "online_retail_cleaned_no_cancellations['Quantity_Lagged_Avg'] = online_retail_cleaned_no_cancellations.groupby('StockCode')['Quantity'].transform(lambda x: x.shift(1).rolling(window=3).mean())\n",
    "online_retail_cleaned_no_cancellations['UnitPrice_Lagged_Avg'] = online_retail_cleaned_no_cancellations.groupby('StockCode')['UnitPrice(£)'].transform(lambda x: x.shift(1).rolling(window=3).mean())\n",
    "\n",
    "print(online_retail_cleaned_no_cancellations[['StockCode', 'Quantity_Lagged_Avg', 'UnitPrice_Lagged_Avg']].head())\n"
   ]
  },
  {
   "cell_type": "code",
   "execution_count": 4,
   "metadata": {},
   "outputs": [
    {
     "name": "stdout",
     "output_type": "stream",
     "text": [
      "       StockCode  Quantity_Lagged_Avg  UnitPrice_Lagged_Avg\n",
      "0         85123A                  NaN                   NaN\n",
      "1          71053                  NaN                   NaN\n",
      "2         84406B                  NaN                   NaN\n",
      "3         84029G                  NaN                   NaN\n",
      "4         84029E                  NaN                   NaN\n",
      "...          ...                  ...                   ...\n",
      "397919     22613             5.666667              0.850000\n",
      "397920     22899             3.666667              2.100000\n",
      "397921     23254             2.666667              4.150000\n",
      "397922     23255             6.000000              4.150000\n",
      "397923     22138            24.666667              4.483333\n",
      "\n",
      "[397924 rows x 3 columns]\n"
     ]
    }
   ],
   "source": [
    "print(online_retail_cleaned_no_cancellations[['StockCode', 'Quantity_Lagged_Avg', 'UnitPrice_Lagged_Avg']])\n"
   ]
  },
  {
   "cell_type": "code",
   "execution_count": 5,
   "metadata": {},
   "outputs": [],
   "source": [
    "import pandas as pd\n",
    "from sklearn.ensemble import RandomForestRegressor\n",
    "from sklearn.model_selection import train_test_split\n",
    "from sklearn.metrics import mean_absolute_error\n",
    "\n",
    "\n",
    "# Step 1: Convert 'InvoiceDate' to datetime\n",
    "online_retail_cleaned_no_cancellations['InvoiceDate'] = pd.to_datetime(online_retail_cleaned_no_cancellations['InvoiceDate'])\n",
    "\n",
    "# Step 2: Extract time-related features\n",
    "online_retail_cleaned_no_cancellations['Hour'] = online_retail_cleaned_no_cancellations['InvoiceDate'].dt.hour\n",
    "online_retail_cleaned_no_cancellations['Day'] = online_retail_cleaned_no_cancellations['InvoiceDate'].dt.dayofweek  # 0 = Monday, 6 = Sunday\n",
    "online_retail_cleaned_no_cancellations['Month'] = online_retail_cleaned_no_cancellations['InvoiceDate'].dt.month\n",
    "\n",
    "# Step 3: Encode 'StockCode'(Label Encoding or One-Hot Encoding)\n",
    "from sklearn.preprocessing import LabelEncoder\n",
    "label_encoder = LabelEncoder()\n",
    "# Encode 'StockCode'\n",
    "online_retail_cleaned_no_cancellations['StockCode_Encoded'] = label_encoder.fit_transform(online_retail_cleaned_no_cancellations['StockCode'])\n",
    "\n"
   ]
  },
  {
   "cell_type": "markdown",
   "metadata": {},
   "source": [
    "## Price Prediction Model\n"
   ]
  },
  {
   "cell_type": "markdown",
   "metadata": {},
   "source": [
    "### Data Preparation"
   ]
  },
  {
   "cell_type": "code",
   "execution_count": 6,
   "metadata": {},
   "outputs": [],
   "source": [
    "import pandas as pd\n",
    "import numpy as np\n",
    "from sklearn.preprocessing import LabelEncoder, StandardScaler\n",
    "from sklearn.impute import SimpleImputer\n",
    "from sklearn.ensemble import RandomForestRegressor\n",
    "from sklearn.linear_model import LinearRegression\n",
    "from sklearn.metrics import mean_absolute_error, mean_squared_error, r2_score\n",
    "from sklearn.model_selection import train_test_split\n",
    "from scipy.stats import zscore\n",
    "\n",
    "# Step 1: Handle Outliers\n",
    "# Detect outliers using Z-score method\n",
    "z_scores = np.abs(zscore(online_retail_cleaned_no_cancellations[['Quantity', 'UnitPrice(£)', 'Quantity_Lagged_Avg', 'UnitPrice_Lagged_Avg']]))\n",
    "outliers = (z_scores > 3).any(axis=1)\n",
    "cleaned_data = online_retail_cleaned_no_cancellations[~outliers]\n",
    "\n",
    "# Step 2: Handle Missing Values\n",
    "# Impute missing values using SimpleImputer with median strategy\n",
    "imputer = SimpleImputer(strategy='median')\n",
    "cleaned_data_imputed = cleaned_data.copy()\n",
    "\n",
    "# Apply imputation to the relevant features\n",
    "cleaned_data_imputed[['Quantity', 'UnitPrice(£)', 'Quantity_Lagged_Avg', 'UnitPrice_Lagged_Avg']] = imputer.fit_transform(\n",
    "    cleaned_data[['Quantity', 'UnitPrice(£)', 'Quantity_Lagged_Avg', 'UnitPrice_Lagged_Avg']])\n",
    "\n",
    "# Step 3: Feature Scaling\n",
    "# Use StandardScaler to scale features\n",
    "scaler = StandardScaler()\n",
    "scaled_features = scaler.fit_transform(cleaned_data_imputed[['Quantity', 'Quantity_Lagged_Avg', 'UnitPrice_Lagged_Avg']])\n",
    "\n",
    "# Replace the original features with scaled ones\n",
    "cleaned_data_imputed[['Quantity', 'Quantity_Lagged_Avg', 'UnitPrice_Lagged_Avg']] = scaled_features\n",
    "\n",
    "# Step 4: Create Interaction Features\n",
    "cleaned_data_imputed['Quantity_UnitPrice_Lagged_Avg'] = cleaned_data_imputed['Quantity'] * cleaned_data_imputed['UnitPrice_Lagged_Avg']\n",
    "\n",
    "# Step 5: Encode 'StockCode'\n",
    "label_encoder = LabelEncoder()\n",
    "cleaned_data_imputed['StockCode_Encoded'] = label_encoder.fit_transform(cleaned_data_imputed['StockCode'])\n",
    "\n",
    "# Prepare the input features (X) and target variable (y)\n",
    "X = cleaned_data_imputed[['StockCode_Encoded', 'Quantity', 'Hour', 'Day', 'Month', 'Quantity_Lagged_Avg', 'UnitPrice_Lagged_Avg', 'Quantity_UnitPrice_Lagged_Avg']]\n",
    "y = cleaned_data_imputed['UnitPrice(£)']\n",
    "\n",
    "# Step 6: Split the data into training and testing sets\n",
    "X_train, X_test, y_train, y_test = train_test_split(X, y, test_size=0.2, random_state=42)\n",
    "\n"
   ]
  },
  {
   "cell_type": "markdown",
   "metadata": {},
   "source": [
    "### Training Model "
   ]
  },
  {
   "cell_type": "code",
   "execution_count": 7,
   "metadata": {},
   "outputs": [
    {
     "data": {
      "text/html": [
       "<style>#sk-container-id-1 {color: black;background-color: white;}#sk-container-id-1 pre{padding: 0;}#sk-container-id-1 div.sk-toggleable {background-color: white;}#sk-container-id-1 label.sk-toggleable__label {cursor: pointer;display: block;width: 100%;margin-bottom: 0;padding: 0.3em;box-sizing: border-box;text-align: center;}#sk-container-id-1 label.sk-toggleable__label-arrow:before {content: \"▸\";float: left;margin-right: 0.25em;color: #696969;}#sk-container-id-1 label.sk-toggleable__label-arrow:hover:before {color: black;}#sk-container-id-1 div.sk-estimator:hover label.sk-toggleable__label-arrow:before {color: black;}#sk-container-id-1 div.sk-toggleable__content {max-height: 0;max-width: 0;overflow: hidden;text-align: left;background-color: #f0f8ff;}#sk-container-id-1 div.sk-toggleable__content pre {margin: 0.2em;color: black;border-radius: 0.25em;background-color: #f0f8ff;}#sk-container-id-1 input.sk-toggleable__control:checked~div.sk-toggleable__content {max-height: 200px;max-width: 100%;overflow: auto;}#sk-container-id-1 input.sk-toggleable__control:checked~label.sk-toggleable__label-arrow:before {content: \"▾\";}#sk-container-id-1 div.sk-estimator input.sk-toggleable__control:checked~label.sk-toggleable__label {background-color: #d4ebff;}#sk-container-id-1 div.sk-label input.sk-toggleable__control:checked~label.sk-toggleable__label {background-color: #d4ebff;}#sk-container-id-1 input.sk-hidden--visually {border: 0;clip: rect(1px 1px 1px 1px);clip: rect(1px, 1px, 1px, 1px);height: 1px;margin: -1px;overflow: hidden;padding: 0;position: absolute;width: 1px;}#sk-container-id-1 div.sk-estimator {font-family: monospace;background-color: #f0f8ff;border: 1px dotted black;border-radius: 0.25em;box-sizing: border-box;margin-bottom: 0.5em;}#sk-container-id-1 div.sk-estimator:hover {background-color: #d4ebff;}#sk-container-id-1 div.sk-parallel-item::after {content: \"\";width: 100%;border-bottom: 1px solid gray;flex-grow: 1;}#sk-container-id-1 div.sk-label:hover label.sk-toggleable__label {background-color: #d4ebff;}#sk-container-id-1 div.sk-serial::before {content: \"\";position: absolute;border-left: 1px solid gray;box-sizing: border-box;top: 0;bottom: 0;left: 50%;z-index: 0;}#sk-container-id-1 div.sk-serial {display: flex;flex-direction: column;align-items: center;background-color: white;padding-right: 0.2em;padding-left: 0.2em;position: relative;}#sk-container-id-1 div.sk-item {position: relative;z-index: 1;}#sk-container-id-1 div.sk-parallel {display: flex;align-items: stretch;justify-content: center;background-color: white;position: relative;}#sk-container-id-1 div.sk-item::before, #sk-container-id-1 div.sk-parallel-item::before {content: \"\";position: absolute;border-left: 1px solid gray;box-sizing: border-box;top: 0;bottom: 0;left: 50%;z-index: -1;}#sk-container-id-1 div.sk-parallel-item {display: flex;flex-direction: column;z-index: 1;position: relative;background-color: white;}#sk-container-id-1 div.sk-parallel-item:first-child::after {align-self: flex-end;width: 50%;}#sk-container-id-1 div.sk-parallel-item:last-child::after {align-self: flex-start;width: 50%;}#sk-container-id-1 div.sk-parallel-item:only-child::after {width: 0;}#sk-container-id-1 div.sk-dashed-wrapped {border: 1px dashed gray;margin: 0 0.4em 0.5em 0.4em;box-sizing: border-box;padding-bottom: 0.4em;background-color: white;}#sk-container-id-1 div.sk-label label {font-family: monospace;font-weight: bold;display: inline-block;line-height: 1.2em;}#sk-container-id-1 div.sk-label-container {text-align: center;}#sk-container-id-1 div.sk-container {/* jupyter's `normalize.less` sets `[hidden] { display: none; }` but bootstrap.min.css set `[hidden] { display: none !important; }` so we also need the `!important` here to be able to override the default hidden behavior on the sphinx rendered scikit-learn.org. See: https://github.com/scikit-learn/scikit-learn/issues/21755 */display: inline-block !important;position: relative;}#sk-container-id-1 div.sk-text-repr-fallback {display: none;}</style><div id=\"sk-container-id-1\" class=\"sk-top-container\"><div class=\"sk-text-repr-fallback\"><pre>LinearRegression()</pre><b>In a Jupyter environment, please rerun this cell to show the HTML representation or trust the notebook. <br />On GitHub, the HTML representation is unable to render, please try loading this page with nbviewer.org.</b></div><div class=\"sk-container\" hidden><div class=\"sk-item\"><div class=\"sk-estimator sk-toggleable\"><input class=\"sk-toggleable__control sk-hidden--visually\" id=\"sk-estimator-id-1\" type=\"checkbox\" checked><label for=\"sk-estimator-id-1\" class=\"sk-toggleable__label sk-toggleable__label-arrow\">LinearRegression</label><div class=\"sk-toggleable__content\"><pre>LinearRegression()</pre></div></div></div></div></div>"
      ],
      "text/plain": [
       "LinearRegression()"
      ]
     },
     "execution_count": 7,
     "metadata": {},
     "output_type": "execute_result"
    }
   ],
   "source": [
    "# Step 7: Train the Random Forest model\n",
    "rf_model = RandomForestRegressor(n_estimators=100, random_state=42)\n",
    "rf_model.fit(X_train, y_train)\n",
    "\n",
    "\n",
    "# Step 8: Train the Linear Regression model (for comparison)\n",
    "lr_model = LinearRegression()\n",
    "lr_model.fit(X_train, y_train)\n",
    "\n"
   ]
  },
  {
   "cell_type": "markdown",
   "metadata": {},
   "source": [
    "### Model Evaluation"
   ]
  },
  {
   "cell_type": "code",
   "execution_count": 8,
   "metadata": {},
   "outputs": [
    {
     "name": "stdout",
     "output_type": "stream",
     "text": [
      "Random Forest with feature engineering:\n",
      "Mean Absolute Error (MAE): 0.1220\n",
      "Root Mean Squared Error (RMSE): 0.7932\n",
      "R-squared (R²): 0.9386\n"
     ]
    }
   ],
   "source": [
    "# Step 9: Evaluate the Random Forest model\n",
    "y_pred_rf = rf_model.predict(X_test)\n",
    "mae_rf = mean_absolute_error(y_test, y_pred_rf)\n",
    "rmse_rf = np.sqrt(mean_squared_error(y_test, y_pred_rf))\n",
    "r2_rf = r2_score(y_test, y_pred_rf)\n",
    "\n",
    "\n",
    "print(f\"Random Forest with feature engineering:\")\n",
    "print(f\"Mean Absolute Error (MAE): {mae_rf:.4f}\")\n",
    "print(f\"Root Mean Squared Error (RMSE): {rmse_rf:.4f}\")\n",
    "print(f\"R-squared (R²): {r2_rf:.4f}\")\n"
   ]
  },
  {
   "cell_type": "code",
   "execution_count": 9,
   "metadata": {},
   "outputs": [
    {
     "name": "stdout",
     "output_type": "stream",
     "text": [
      "\n",
      "Linear Regression with feature engineering:\n",
      "Mean Absolute Error (MAE): 1.8951\n",
      "Root Mean Squared Error (RMSE): 3.0188\n",
      "R-squared (R²): 0.1106\n"
     ]
    }
   ],
   "source": [
    "\n",
    "# Step 10: Evaluate the Linear Regression model\n",
    "y_pred_lr = lr_model.predict(X_test)\n",
    "mae_lr = mean_absolute_error(y_test, y_pred_lr)\n",
    "rmse_lr = np.sqrt(mean_squared_error(y_test, y_pred_lr))\n",
    "r2_lr = r2_score(y_test, y_pred_lr)\n",
    "\n",
    "print(f\"\\nLinear Regression with feature engineering:\")\n",
    "print(f\"Mean Absolute Error (MAE): {mae_lr:.4f}\")\n",
    "print(f\"Root Mean Squared Error (RMSE): {rmse_lr:.4f}\")\n",
    "print(f\"R-squared (R²): {r2_lr:.4f}\")\n",
    "\n"
   ]
  },
  {
   "cell_type": "markdown",
   "metadata": {},
   "source": [
    "### Predict Unit Price Function"
   ]
  },
  {
   "cell_type": "code",
   "execution_count": 10,
   "metadata": {},
   "outputs": [],
   "source": [
    "# Step 11: Predict Unit Price Function\n",
    "def predict_unit_price(stock_code, invoice_weekday, invoice_hour, invoice_month, historical_data, rf_model, scaler):\n",
    "    \"\"\"\n",
    "    Predicts the unit price of a stock dynamically based on customer inputs.\n",
    "\n",
    "    Args:\n",
    "        stock_code (int): The encoded stock code.\n",
    "        invoice_weekday (int): Day of the week (0 = Monday, ..., 6 = Sunday).\n",
    "        invoice_hour (int): Hour of the day in 24-hour format.\n",
    "        invoice_month (int): Month of the year (1 = January, ..., 12 = December).\n",
    "        historical_data (DataFrame): Historical data for lagged averages and scaling.\n",
    "        rf_model (RandomForestRegressor): Trained model.\n",
    "        scaler (StandardScaler): Fitted scaler for scaling numeric features.\n",
    "        \n",
    "    Returns:\n",
    "        float: Predicted unit price (£).\n",
    "    \"\"\"\n",
    "    # Filter data for the given stock code\n",
    "    stock_data = historical_data[historical_data['StockCode_Encoded'] == stock_code]\n",
    "    if stock_data.empty:\n",
    "        raise ValueError(f\"No historical data found for StockCode {stock_code}\")\n",
    "\n",
    "    # Calculate lagged averages\n",
    "    quantity_lagged_avg = stock_data['Quantity_Lagged_Avg'].mean()\n",
    "    unitprice_lagged_avg = stock_data['UnitPrice_Lagged_Avg'].mean()\n",
    "    quantity_unitprice_interaction = quantity_lagged_avg * unitprice_lagged_avg\n",
    "\n",
    "    # Create input feature\n",
    "    input_features = pd.DataFrame({\n",
    "        'StockCode_Encoded': [stock_code],\n",
    "        'Quantity': [quantity_lagged_avg],\n",
    "        'Hour': [invoice_hour],\n",
    "        'Day': [invoice_weekday],\n",
    "        'Month': [invoice_month],\n",
    "        'Quantity_Lagged_Avg': [quantity_lagged_avg],\n",
    "        'UnitPrice_Lagged_Avg': [unitprice_lagged_avg],\n",
    "        'Quantity_UnitPrice_Lagged_Avg': [quantity_unitprice_interaction]\n",
    "    })\n",
    "\n",
    "    # Scale numeric features\n",
    "    scaled_features = scaler.transform(input_features[['Quantity', 'Quantity_Lagged_Avg', 'UnitPrice_Lagged_Avg']])\n",
    "    input_features[['Quantity', 'Quantity_Lagged_Avg', 'UnitPrice_Lagged_Avg']] = scaled_features\n",
    "\n",
    "    # Predict using the model\n",
    "    predicted_price = rf_model.predict(input_features)\n",
    "    return predicted_price[0]\n",
    "\n"
   ]
  },
  {
   "cell_type": "code",
   "execution_count": null,
   "metadata": {
    "tags": [
     "parameters"
    ]
   },
   "outputs": [
    {
     "name": "stdout",
     "output_type": "stream",
     "text": [
      "\n",
      "Predicted Unit Price for StockCode ' 85123A': £0.08\n"
     ]
    }
   ],
   "source": [
    "# Example Prediction\n",
    "stock_code_encoded = label_encoder.transform(['85123A'])[0]  #'85131D' with your desired stock code\n",
    "predicted_price = predict_unit_price(\n",
    "    stock_code=stock_code_encoded,\n",
    "    invoice_weekday=3,  # Wednesday\n",
    "    invoice_hour=17,    # 5 PM\n",
    "    invoice_month=12,   # December\n",
    "    historical_data=cleaned_data_imputed,\n",
    "    rf_model=rf_model,\n",
    "    scaler=scaler\n",
    ")\n",
    "print(f\"\\nPredicted Unit Price for StockCode ' 85123A': £{predicted_price:.2f}\")\n",
    "\n"
   ]
  },
  {
   "cell_type": "markdown",
   "metadata": {},
   "source": [
    "### Saving the trained Model"
   ]
  },
  {
   "cell_type": "code",
   "execution_count": 15,
   "metadata": {},
   "outputs": [
    {
     "data": {
      "text/plain": [
       "['label_encoder.pkl']"
      ]
     },
     "execution_count": 15,
     "metadata": {},
     "output_type": "execute_result"
    }
   ],
   "source": [
    "import joblib\n",
    "\n",
    "# Save the trained RandomForest model, scaler, and label encoder\n",
    "joblib.dump(rf_model, 'random_forest_model.pkl')\n",
    "joblib.dump(scaler, 'scaler.pkl')\n",
    "joblib.dump(label_encoder, 'label_encoder.pkl')\n"
   ]
  },
  {
   "cell_type": "markdown",
   "metadata": {},
   "source": [
    "## Build the Streamlit App:\n"
   ]
  },
  {
   "cell_type": "code",
   "execution_count": 14,
   "metadata": {},
   "outputs": [
    {
     "name": "stderr",
     "output_type": "stream",
     "text": [
      "2024-12-07 21:37:59.932 WARNING streamlit.runtime.scriptrunner_utils.script_run_context: Thread 'MainThread': missing ScriptRunContext! This warning can be ignored when running in bare mode.\n",
      "2024-12-07 21:38:01.997 \n",
      "  \u001b[33m\u001b[1mWarning:\u001b[0m to view this Streamlit app on a browser, run it with the following\n",
      "  command:\n",
      "\n",
      "    streamlit run c:\\Users\\godwi\\Downloads\\Anconda\\Lib\\site-packages\\ipykernel_launcher.py [ARGUMENTS]\n",
      "2024-12-07 21:38:01.998 Thread 'MainThread': missing ScriptRunContext! This warning can be ignored when running in bare mode.\n",
      "2024-12-07 21:38:01.998 Thread 'MainThread': missing ScriptRunContext! This warning can be ignored when running in bare mode.\n",
      "2024-12-07 21:38:02.000 Thread 'MainThread': missing ScriptRunContext! This warning can be ignored when running in bare mode.\n",
      "2024-12-07 21:38:02.001 Thread 'MainThread': missing ScriptRunContext! This warning can be ignored when running in bare mode.\n",
      "2024-12-07 21:38:02.003 Thread 'MainThread': missing ScriptRunContext! This warning can be ignored when running in bare mode.\n",
      "2024-12-07 21:38:02.004 Session state does not function when running a script without `streamlit run`\n",
      "2024-12-07 21:38:02.007 Thread 'MainThread': missing ScriptRunContext! This warning can be ignored when running in bare mode.\n",
      "2024-12-07 21:38:02.010 Thread 'MainThread': missing ScriptRunContext! This warning can be ignored when running in bare mode.\n",
      "2024-12-07 21:38:02.011 Thread 'MainThread': missing ScriptRunContext! This warning can be ignored when running in bare mode.\n",
      "2024-12-07 21:38:02.012 Thread 'MainThread': missing ScriptRunContext! This warning can be ignored when running in bare mode.\n",
      "2024-12-07 21:38:02.013 Thread 'MainThread': missing ScriptRunContext! This warning can be ignored when running in bare mode.\n",
      "2024-12-07 21:38:02.015 Thread 'MainThread': missing ScriptRunContext! This warning can be ignored when running in bare mode.\n",
      "2024-12-07 21:38:02.016 Thread 'MainThread': missing ScriptRunContext! This warning can be ignored when running in bare mode.\n",
      "2024-12-07 21:38:02.017 Thread 'MainThread': missing ScriptRunContext! This warning can be ignored when running in bare mode.\n",
      "2024-12-07 21:38:02.019 Thread 'MainThread': missing ScriptRunContext! This warning can be ignored when running in bare mode.\n",
      "2024-12-07 21:38:02.021 Thread 'MainThread': missing ScriptRunContext! This warning can be ignored when running in bare mode.\n",
      "2024-12-07 21:38:02.022 Thread 'MainThread': missing ScriptRunContext! This warning can be ignored when running in bare mode.\n",
      "2024-12-07 21:38:02.025 Thread 'MainThread': missing ScriptRunContext! This warning can be ignored when running in bare mode.\n",
      "2024-12-07 21:38:02.026 Thread 'MainThread': missing ScriptRunContext! This warning can be ignored when running in bare mode.\n",
      "2024-12-07 21:38:02.027 Thread 'MainThread': missing ScriptRunContext! This warning can be ignored when running in bare mode.\n",
      "2024-12-07 21:38:02.028 Thread 'MainThread': missing ScriptRunContext! This warning can be ignored when running in bare mode.\n",
      "2024-12-07 21:38:02.029 Thread 'MainThread': missing ScriptRunContext! This warning can be ignored when running in bare mode.\n",
      "2024-12-07 21:38:02.031 Thread 'MainThread': missing ScriptRunContext! This warning can be ignored when running in bare mode.\n",
      "2024-12-07 21:38:02.032 Thread 'MainThread': missing ScriptRunContext! This warning can be ignored when running in bare mode.\n",
      "2024-12-07 21:38:02.034 Thread 'MainThread': missing ScriptRunContext! This warning can be ignored when running in bare mode.\n",
      "2024-12-07 21:38:02.035 Thread 'MainThread': missing ScriptRunContext! This warning can be ignored when running in bare mode.\n",
      "2024-12-07 21:38:02.036 Thread 'MainThread': missing ScriptRunContext! This warning can be ignored when running in bare mode.\n",
      "2024-12-07 21:38:02.037 Thread 'MainThread': missing ScriptRunContext! This warning can be ignored when running in bare mode.\n",
      "2024-12-07 21:38:02.039 Thread 'MainThread': missing ScriptRunContext! This warning can be ignored when running in bare mode.\n"
     ]
    }
   ],
   "source": [
    "import streamlit as st\n",
    "import pandas as pd\n",
    "import joblib\n",
    "import numpy as np\n",
    "# Load the trained model, scaler, and label encoder\n",
    "#rf_model = joblib.load('random_forest_model.pkl')\n",
    "#scaler = joblib.load('scaler.pkl')\n",
    "#label_encoder = joblib.load('label_encoder.pkl')\n",
    "\n",
    "# Title of the web app\n",
    "st.title('Unit Price Prediction for Stock')\n",
    "\n",
    "# Create input fields for the user\n",
    "stock_code = st.text_input('Enter Stock Code (e.g., \"85123A\")', '85123A')\n",
    "invoice_weekday = st.selectbox('Select Invoice Weekday', ['Monday', 'Tuesday', 'Wednesday', 'Thursday', 'Friday', 'Saturday', 'Sunday'])\n",
    "invoice_hour = st.slider('Select Invoice Hour', 0, 23, 15)  # Default to 3 PM (15:00)\n",
    "invoice_month = st.slider('Select Invoice Month', 1, 12, 11)  # Default to November\n",
    "\n",
    "# Mapping weekdays to integers (0=Monday, 6=Sunday)\n",
    "weekday_mapping = {\n",
    "    'Monday': 0, 'Tuesday': 1, 'Wednesday': 2, 'Thursday': 3,\n",
    "    'Friday': 4, 'Saturday': 5, 'Sunday': 6\n",
    "}\n",
    "invoice_weekday_int = weekday_mapping[invoice_weekday]\n",
    "\n",
    "# When the user presses the button to predict\n",
    "if st.button('Predict Unit Price'):\n",
    "    # Encode the stock code\n",
    "    stock_code_encoded = label_encoder.transform([stock_code])[0]\n",
    "\n",
    "    # Create the input features (replace lagged values with actual user input if available)\n",
    "    input_features = pd.DataFrame({\n",
    "        'StockCode_Encoded': [stock_code_encoded],\n",
    "        'Quantity': [0],  # You can replace this with actual input from the user\n",
    "        'InvoiceHour': [invoice_hour],\n",
    "        'InvoiceWeekday': [invoice_weekday_int],\n",
    "        'InvoiceMonth': [invoice_month],\n",
    "        'Quantity_Lagged_Avg': [0],  # Replace with actual input if available\n",
    "        'UnitPrice_Lagged_Avg': [0],  # Replace with actual input if available\n",
    "        'Quantity_UnitPrice_Lagged_Avg': [0]  # Replace with actual input if available\n",
    "    })\n",
    "\n",
    "    # Scale the features\n",
    "    scaled_features = scaler.transform(input_features[['Quantity', 'Quantity_Lagged_Avg', 'UnitPrice_Lagged_Avg']])\n",
    "    input_features[['Quantity', 'Quantity_Lagged_Avg', 'UnitPrice_Lagged_Avg']] = scaled_features\n",
    "\n",
    "    # Make prediction\n",
    "    predicted_price = rf_model.predict(input_features)\n",
    "\n",
    "    # Display the predicted price to the user\n",
    "    st.write(f\"Predicted Unit Price for StockCode {stock_code} on {invoice_weekday} at {invoice_hour}:00 is: £{predicted_price[0]:.2f}\")\n",
    "\n"
   ]
  },
  {
   "cell_type": "code",
   "execution_count": null,
   "metadata": {},
   "outputs": [],
   "source": []
  },
  {
   "cell_type": "code",
   "execution_count": null,
   "metadata": {},
   "outputs": [],
   "source": [
    "import streamlit as st\n",
    "import pandas as pd\n",
    "import joblib\n",
    "import os\n",
    "\n",
    "# Function to load model, scaler, label encoder, and dataset\n",
    "@st.cache_resource\n",
    "def load_model_and_data():\n",
    "    # Check if all required files exist\n",
    "    if not os.path.exists('random_forest_model.pkl') or not os.path.exists('scaler.pkl') or not os.path.exists('label_encoder.pkl') or not os.path.exists('online_retail_cleaned_no_cancellations.csv'):\n",
    "        st.error(\"Required files (model/scaler/encoder/data) are missing! Please check the directory.\")\n",
    "        st.stop()\n",
    "    \n",
    "\n",
    "    # Load the trained model, scaler, label encoder, and data\n",
    "    model = joblib.load('random_forest_model.pkl')\n",
    "    scaler = joblib.load('scaler.pkl')\n",
    "    label_encoder = joblib.load('label_encoder.pkl')\n",
    "    data = pd.read_csv('online_retail_cleaned_no_cancellations.csv')  # Load your dataset here (or pre-extracted unique stock codes)\n",
    "    return model, scaler, label_encoder, data\n",
    "\n",
    "# Load resources\n",
    "rf_model, scaler, label_encoder, data = load_model_and_data()\n",
    "\n",
    "# Extract unique StockCodes\n",
    "unique_stock_codes = data['StockCode'].unique()  # Replace 'StockCode' with your column name\n",
    "unique_stock_codes.sort()  # Sort for better usability\n",
    "\n",
    "# Title of the web app\n",
    "st.title('Unit Price Prediction for Stock Items')\n",
    "st.markdown(\"\"\"\n",
    "This application predicts the unit price of a stock item based on various factors such as the stock code, day of the week, hour of the day, and month of the year.\n",
    "Please provide the necessary details below to get a prediction.\n",
    "\"\"\")\n",
    "\n",
    "# Create a dropdown to select a Stock Code\n",
    "stock_code = st.selectbox('Select Stock Code', unique_stock_codes, help=\"Choose a valid stock code from the dataset.\")\n",
    "\n",
    "# Create other input fields for the user\n",
    "invoice_weekday = st.selectbox(\n",
    "    'Select Invoice Weekday',\n",
    "    ['Monday', 'Tuesday', 'Wednesday', 'Thursday', 'Friday', 'Saturday', 'Sunday'],\n",
    "    help=\"Choose the day of the week for the invoice.\"\n",
    ")\n",
    "invoice_hour = st.slider('Select Invoice Hour', 0, 23, 15, help=\"Pick the hour of the day (0-23). Default is 3 PM.\")\n",
    "invoice_month = st.slider('Select Invoice Month', 1, 12, 11, help=\"Pick the invoice month. Default is November.\")\n",
    "\n",
    "# Mapping weekdays to integers (0=Monday, 6=Sunday)\n",
    "weekday_mapping = {\n",
    "    'Monday': 0, 'Tuesday': 1, 'Wednesday': 2, 'Thursday': 3,\n",
    "    'Friday': 4, 'Saturday': 5, 'Sunday': 6\n",
    "}\n",
    "invoice_weekday_int = weekday_mapping[invoice_weekday]\n",
    "\n",
    "# When the user presses the button to predict\n",
    "if st.button('Predict Unit Price'):\n",
    "    # Encode the stock code\n",
    "    try:\n",
    "        stock_code_encoded = label_encoder.transform([stock_code])[0]\n",
    "    except ValueError:\n",
    "        st.error(\"Invalid Stock Code! Please try a valid one.\")\n",
    "        st.stop()\n",
    "\n",
    "    # Create the input features (replace lagged values with actual user input if available)\n",
    "    input_features = pd.DataFrame({\n",
    "        'StockCode_Encoded': [stock_code_encoded],\n",
    "        'Quantity': [0],  # Replace with actual input if available\n",
    "        'InvoiceHour': [invoice_hour],\n",
    "        'InvoiceWeekday': [invoice_weekday_int],\n",
    "        'InvoiceMonth': [invoice_month],\n",
    "        'Quantity_Lagged_Avg': [0],  # Replace with actual input if available\n",
    "        'UnitPrice_Lagged_Avg': [0],  # Replace with actual input if available\n",
    "        'Quantity_UnitPrice_Lagged_Avg': [0]  # Replace with actual input if available\n",
    "    })\n",
    "\n",
    "    # Scale the features\n",
    "    scaled_features = scaler.transform(input_features[['Quantity', 'Quantity_Lagged_Avg', 'UnitPrice_Lagged_Avg']])\n",
    "    input_features[['Quantity', 'Quantity_Lagged_Avg', 'UnitPrice_Lagged_Avg']] = scaled_features\n",
    "\n",
    "    # Predict the unit price\n",
    "    try:\n",
    "        predicted_price = rf_model.predict(input_features)\n",
    "        st.write(f\"Predicted Unit Price for StockCode {stock_code} on {invoice_weekday} at {invoice_hour}:00 is: £{predicted_price[0]:.2f}\")\n",
    "    except Exception as e:\n",
    "        st.error(f\"An error occurred during prediction: {str(e)}\")\n",
    "\n",
    "# Additional section for file upload (optional)\n",
    "st.sidebar.title(\"Upload Model Files (Optional)\")\n",
    "st.sidebar.markdown(\"If the required files are not found, you can upload them here.\")\n",
    "uploaded_model = st.sidebar.file_uploader(\"Upload Random Forest Model (.pkl)\", type=[\"pkl\"])\n",
    "uploaded_scaler = st.sidebar.file_uploader(\"Upload Scaler (.pkl)\", type=[\"pkl\"])\n",
    "uploaded_encoder = st.sidebar.file_uploader(\"Upload Label Encoder (.pkl)\", type=[\"pkl\"])\n",
    "\n",
    "# Replace files with uploaded versions (if provided)\n",
    "if uploaded_model:\n",
    "    rf_model = joblib.load(uploaded_model)\n",
    "    st.sidebar.success(\"Random Forest model uploaded successfully!\")\n",
    "if uploaded_scaler:\n",
    "    scaler = joblib.load(uploaded_scaler)\n",
    "    st.sidebar.success(\"Scaler uploaded successfully!\")\n",
    "if uploaded_encoder:\n",
    "    label_encoder = joblib.load(uploaded_encoder)\n",
    "    st.sidebar.success(\"Label encoder uploaded successfully!\")\n"
   ]
  },
  {
   "cell_type": "code",
   "execution_count": 1,
   "metadata": {},
   "outputs": [
    {
     "name": "stdout",
     "output_type": "stream",
     "text": [
      "Index(['InvoiceNo', 'StockCode', 'Description', 'Quantity', 'InvoiceDate',\n",
      "       'UnitPrice(£)', 'CustomerID', 'Country', 'Sales(£)', 'InvoiceMonth',\n",
      "       'InvoiceDay', 'InvoiceHour', 'InvoiceWeekday', 'is_canceled'],\n",
      "      dtype='object')\n"
     ]
    }
   ],
   "source": [
    "import pandas as pd\n",
    "data = pd.read_csv('online_retail_cleaned_no_cancellations.csv')\n",
    "print(data.columns)\n"
   ]
  },
  {
   "cell_type": "markdown",
   "metadata": {},
   "source": [
    "Working APP"
   ]
  },
  {
   "cell_type": "code",
   "execution_count": null,
   "metadata": {},
   "outputs": [],
   "source": [
    "import streamlit as st\n",
    "import pandas as pd\n",
    "import joblib\n",
    "import os\n",
    "\n",
    "# Function to load model, scaler, label encoder, and dataset\n",
    "@st.cache_resource\n",
    "def load_model_and_data():\n",
    "    # Check if all required files exist\n",
    "    if not os.path.exists('random_forest_model.pkl') or not os.path.exists('scaler.pkl') or not os.path.exists('label_encoder.pkl') or not os.path.exists('online_retail_cleaned_no_cancellations.csv'):\n",
    "        st.error(\"Required files (model/scaler/encoder/data) are missing! Please check the directory.\")\n",
    "        st.stop()\n",
    "    \n",
    "\n",
    "    # Load the trained model, scaler, label encoder, and data\n",
    "    model = joblib.load('random_forest_model.pkl')\n",
    "    scaler = joblib.load('scaler.pkl')\n",
    "    label_encoder = joblib.load('label_encoder.pkl')\n",
    "    data = pd.read_csv('online_retail_cleaned_no_cancellations.csv')  # Load your dataset here (or pre-extracted unique stock codes)\n",
    "    return model, scaler, label_encoder, data\n",
    "\n",
    "# Load resources\n",
    "rf_model, scaler, label_encoder, data = load_model_and_data()\n",
    "\n",
    "# Extract unique StockCodes\n",
    "unique_stock_codes = data['StockCode'].unique()  # Replace 'StockCode' with your column name\n",
    "unique_stock_codes.sort()  # Sort for better usability\n",
    "\n",
    "# Title of the web app\n",
    "st.title('Unit Price Prediction for Stock Items')\n",
    "st.markdown(\"\"\"\n",
    "This application predicts the unit price of a stock item based on various factors such as the stock code, day of the week, hour of the day, and month of the year.\n",
    "Please provide the necessary details below to get a prediction.\n",
    "\"\"\")\n",
    "\n",
    "# Create a dropdown to select a Stock Code\n",
    "stock_code = st.selectbox('Select Stock Code', unique_stock_codes, help=\"Choose a valid stock code from the dataset.\")\n",
    "\n",
    "# Create other input fields for the user\n",
    "invoice_weekday = st.selectbox(\n",
    "    'Select Invoice Weekday',\n",
    "    ['Monday', 'Tuesday', 'Wednesday', 'Thursday', 'Friday', 'Saturday', 'Sunday'],\n",
    "    help=\"Choose the day of the week for the invoice.\"\n",
    ")\n",
    "invoice_hour = st.slider('Select Invoice Hour', 0, 23, 15, help=\"Pick the hour of the day (0-23). Default is 3 PM.\")\n",
    "invoice_month = st.slider('Select Invoice Month', 1, 12, 11, help=\"Pick the invoice month. Default is November.\")\n",
    "\n",
    "# Mapping weekdays to integers (0=Monday, 6=Sunday)\n",
    "weekday_mapping = {\n",
    "    'Monday': 0, 'Tuesday': 1, 'Wednesday': 2, 'Thursday': 3,\n",
    "    'Friday': 4, 'Saturday': 5, 'Sunday': 6\n",
    "}\n",
    "invoice_weekday_int = weekday_mapping[invoice_weekday]\n",
    "\n",
    "# When the user presses the button to predict\n",
    "if st.button('Predict Unit Price'):\n",
    "    # Encode the stock code\n",
    "    try:\n",
    "        stock_code_encoded = label_encoder.transform([stock_code])[0]\n",
    "    except ValueError:\n",
    "        st.error(\"Invalid Stock Code! Please try a valid one.\")\n",
    "        st.stop()\n",
    "\n",
    "    # Create the input features with original feature names\n",
    "    input_features = pd.DataFrame({\n",
    "        'StockCode_Encoded': [stock_code_encoded],\n",
    "        'Quantity': [0],  # Replace with actual input if available\n",
    "        'Hour': [invoice_hour],  # Renamed to match training data\n",
    "        'Day': [invoice_weekday_int],  # Renamed to match training data\n",
    "        'Month': [invoice_month],  # Renamed to match training data\n",
    "        'Quantity_Lagged_Avg': [0],  # Replace with actual input if available\n",
    "        'UnitPrice_Lagged_Avg': [0],  # Replace with actual input if available\n",
    "        'Quantity_UnitPrice_Lagged_Avg': [0]  # Replace with actual input if available\n",
    "    })\n",
    "\n",
    "    # Scale the features\n",
    "    scaled_features = scaler.transform(input_features[['Quantity', 'Quantity_Lagged_Avg', 'UnitPrice_Lagged_Avg']])\n",
    "    input_features[['Quantity', 'Quantity_Lagged_Avg', 'UnitPrice_Lagged_Avg']] = scaled_features\n",
    "\n",
    "    # Predict the unit price\n",
    "    try:\n",
    "        predicted_price = rf_model.predict(input_features)\n",
    "        st.write(f\"Predicted Unit Price for StockCode {stock_code} on {invoice_weekday} at {invoice_hour}:00 is: £{predicted_price[0]:.2f}\")\n",
    "    except Exception as e:\n",
    "        st.error(f\"An error occurred during prediction: {str(e)}\")\n",
    "\n"
   ]
  }
 ],
 "metadata": {
  "kernelspec": {
   "display_name": "base",
   "language": "python",
   "name": "python3"
  },
  "language_info": {
   "codemirror_mode": {
    "name": "ipython",
    "version": 3
   },
   "file_extension": ".py",
   "mimetype": "text/x-python",
   "name": "python",
   "nbconvert_exporter": "python",
   "pygments_lexer": "ipython3",
   "version": "3.11.7"
  }
 },
 "nbformat": 4,
 "nbformat_minor": 2
}
