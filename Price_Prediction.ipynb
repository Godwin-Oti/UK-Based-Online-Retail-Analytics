{
 "cells": [
  {
   "cell_type": "code",
   "execution_count": 1,
   "metadata": {},
   "outputs": [],
   "source": [
    "import pandas as pd\n",
    "import numpy as np\n",
    "import matplotlib.pyplot as plt\n",
    "import seaborn as sns\n",
    "from sklearn.cluster import KMeans\n",
    "from sklearn.preprocessing import StandardScaler\n",
    "from collections import Counter\n",
    "import plotly.express as px\n",
    "from sklearn.cluster import DBSCAN\n",
    "import xgboost as xgb\n",
    "import lightgbm as lgb\n"
   ]
  },
  {
   "cell_type": "code",
   "execution_count": 2,
   "metadata": {},
   "outputs": [],
   "source": [
    "online_retail_cleaned_no_cancellations=pd.read_csv(\"C:\\Desktop\\Sales, Pricing, and Customer Behaviour Analysis\\online_retail_cleaned_no_cancellations.csv\")"
   ]
  },
  {
   "cell_type": "code",
   "execution_count": 3,
   "metadata": {},
   "outputs": [],
   "source": [
    "online_retail_cleaned_no_cancellations=pd.read_csv(\"cleaned_online_retail_data_no_cancellations_no_outliers_for_clustering.csv\")\n"
   ]
  },
  {
   "cell_type": "code",
   "execution_count": 7,
   "metadata": {},
   "outputs": [
    {
     "data": {
      "text/html": [
       "<div>\n",
       "<style scoped>\n",
       "    .dataframe tbody tr th:only-of-type {\n",
       "        vertical-align: middle;\n",
       "    }\n",
       "\n",
       "    .dataframe tbody tr th {\n",
       "        vertical-align: top;\n",
       "    }\n",
       "\n",
       "    .dataframe thead th {\n",
       "        text-align: right;\n",
       "    }\n",
       "</style>\n",
       "<table border=\"1\" class=\"dataframe\">\n",
       "  <thead>\n",
       "    <tr style=\"text-align: right;\">\n",
       "      <th></th>\n",
       "      <th>InvoiceNo</th>\n",
       "      <th>StockCode</th>\n",
       "      <th>Description</th>\n",
       "      <th>Quantity</th>\n",
       "      <th>InvoiceDate</th>\n",
       "      <th>UnitPrice(£)</th>\n",
       "      <th>CustomerID</th>\n",
       "      <th>Country</th>\n",
       "      <th>Sales(£)</th>\n",
       "      <th>InvoiceMonth</th>\n",
       "      <th>InvoiceDay</th>\n",
       "      <th>InvoiceHour</th>\n",
       "      <th>InvoiceWeekday</th>\n",
       "      <th>is_canceled</th>\n",
       "    </tr>\n",
       "  </thead>\n",
       "  <tbody>\n",
       "    <tr>\n",
       "      <th>0</th>\n",
       "      <td>536365</td>\n",
       "      <td>85123A</td>\n",
       "      <td>WHITE HANGING HEART T-LIGHT HOLDER</td>\n",
       "      <td>6</td>\n",
       "      <td>2010-12-01 08:26:00</td>\n",
       "      <td>2.55</td>\n",
       "      <td>17850.0</td>\n",
       "      <td>United Kingdom</td>\n",
       "      <td>15.30</td>\n",
       "      <td>12</td>\n",
       "      <td>1</td>\n",
       "      <td>8</td>\n",
       "      <td>2</td>\n",
       "      <td>False</td>\n",
       "    </tr>\n",
       "    <tr>\n",
       "      <th>1</th>\n",
       "      <td>536365</td>\n",
       "      <td>71053</td>\n",
       "      <td>WHITE METAL LANTERN</td>\n",
       "      <td>6</td>\n",
       "      <td>2010-12-01 08:26:00</td>\n",
       "      <td>3.39</td>\n",
       "      <td>17850.0</td>\n",
       "      <td>United Kingdom</td>\n",
       "      <td>20.34</td>\n",
       "      <td>12</td>\n",
       "      <td>1</td>\n",
       "      <td>8</td>\n",
       "      <td>2</td>\n",
       "      <td>False</td>\n",
       "    </tr>\n",
       "    <tr>\n",
       "      <th>2</th>\n",
       "      <td>536365</td>\n",
       "      <td>84406B</td>\n",
       "      <td>CREAM CUPID HEARTS COAT HANGER</td>\n",
       "      <td>8</td>\n",
       "      <td>2010-12-01 08:26:00</td>\n",
       "      <td>2.75</td>\n",
       "      <td>17850.0</td>\n",
       "      <td>United Kingdom</td>\n",
       "      <td>22.00</td>\n",
       "      <td>12</td>\n",
       "      <td>1</td>\n",
       "      <td>8</td>\n",
       "      <td>2</td>\n",
       "      <td>False</td>\n",
       "    </tr>\n",
       "    <tr>\n",
       "      <th>3</th>\n",
       "      <td>536365</td>\n",
       "      <td>84029G</td>\n",
       "      <td>KNITTED UNION FLAG HOT WATER BOTTLE</td>\n",
       "      <td>6</td>\n",
       "      <td>2010-12-01 08:26:00</td>\n",
       "      <td>3.39</td>\n",
       "      <td>17850.0</td>\n",
       "      <td>United Kingdom</td>\n",
       "      <td>20.34</td>\n",
       "      <td>12</td>\n",
       "      <td>1</td>\n",
       "      <td>8</td>\n",
       "      <td>2</td>\n",
       "      <td>False</td>\n",
       "    </tr>\n",
       "    <tr>\n",
       "      <th>4</th>\n",
       "      <td>536365</td>\n",
       "      <td>84029E</td>\n",
       "      <td>RED WOOLLY HOTTIE WHITE HEART.</td>\n",
       "      <td>6</td>\n",
       "      <td>2010-12-01 08:26:00</td>\n",
       "      <td>3.39</td>\n",
       "      <td>17850.0</td>\n",
       "      <td>United Kingdom</td>\n",
       "      <td>20.34</td>\n",
       "      <td>12</td>\n",
       "      <td>1</td>\n",
       "      <td>8</td>\n",
       "      <td>2</td>\n",
       "      <td>False</td>\n",
       "    </tr>\n",
       "  </tbody>\n",
       "</table>\n",
       "</div>"
      ],
      "text/plain": [
       "   InvoiceNo StockCode                          Description  Quantity  \\\n",
       "0     536365    85123A   WHITE HANGING HEART T-LIGHT HOLDER         6   \n",
       "1     536365     71053                  WHITE METAL LANTERN         6   \n",
       "2     536365    84406B       CREAM CUPID HEARTS COAT HANGER         8   \n",
       "3     536365    84029G  KNITTED UNION FLAG HOT WATER BOTTLE         6   \n",
       "4     536365    84029E       RED WOOLLY HOTTIE WHITE HEART.         6   \n",
       "\n",
       "           InvoiceDate  UnitPrice(£)  CustomerID         Country  Sales(£)  \\\n",
       "0  2010-12-01 08:26:00          2.55     17850.0  United Kingdom     15.30   \n",
       "1  2010-12-01 08:26:00          3.39     17850.0  United Kingdom     20.34   \n",
       "2  2010-12-01 08:26:00          2.75     17850.0  United Kingdom     22.00   \n",
       "3  2010-12-01 08:26:00          3.39     17850.0  United Kingdom     20.34   \n",
       "4  2010-12-01 08:26:00          3.39     17850.0  United Kingdom     20.34   \n",
       "\n",
       "   InvoiceMonth  InvoiceDay  InvoiceHour  InvoiceWeekday  is_canceled  \n",
       "0            12           1            8               2        False  \n",
       "1            12           1            8               2        False  \n",
       "2            12           1            8               2        False  \n",
       "3            12           1            8               2        False  \n",
       "4            12           1            8               2        False  "
      ]
     },
     "execution_count": 7,
     "metadata": {},
     "output_type": "execute_result"
    }
   ],
   "source": [
    "online_retail_cleaned_no_cancellations.head()"
   ]
  },
  {
   "cell_type": "markdown",
   "metadata": {},
   "source": [
    "## Step 1: Feature Engineering"
   ]
  },
  {
   "cell_type": "markdown",
   "metadata": {},
   "source": [
    "### 1.3 Lagged Averages for Price and Quantity Trends\n"
   ]
  },
  {
   "cell_type": "code",
   "execution_count": null,
   "metadata": {},
   "outputs": [],
   "source": [
    "\"\"\"\"Detecting price and quantity trends, to compute the lagged averages for UnitPrice(£) and Quantity per product.\"\"\""
   ]
  },
  {
   "cell_type": "code",
   "execution_count": 4,
   "metadata": {},
   "outputs": [
    {
     "name": "stdout",
     "output_type": "stream",
     "text": [
      "  StockCode  Quantity_Lagged_Avg  UnitPrice_Lagged_Avg\n",
      "0    85123A                  NaN                   NaN\n",
      "1     71053                  NaN                   NaN\n",
      "2    84406B                  NaN                   NaN\n",
      "3    84029G                  NaN                   NaN\n",
      "4    84029E                  NaN                   NaN\n"
     ]
    }
   ],
   "source": [
    "# Lagged average for Quantity and UnitPrice for each product (StockCode)\n",
    "online_retail_cleaned_no_cancellations['Quantity_Lagged_Avg'] = online_retail_cleaned_no_cancellations.groupby('StockCode')['Quantity'].transform(lambda x: x.shift(1).rolling(window=3).mean())\n",
    "online_retail_cleaned_no_cancellations['UnitPrice_Lagged_Avg'] = online_retail_cleaned_no_cancellations.groupby('StockCode')['UnitPrice(£)'].transform(lambda x: x.shift(1).rolling(window=3).mean())\n",
    "\n",
    "print(online_retail_cleaned_no_cancellations[['StockCode', 'Quantity_Lagged_Avg', 'UnitPrice_Lagged_Avg']].head())\n"
   ]
  },
  {
   "cell_type": "code",
   "execution_count": 5,
   "metadata": {},
   "outputs": [
    {
     "name": "stdout",
     "output_type": "stream",
     "text": [
      "       StockCode  Quantity_Lagged_Avg  UnitPrice_Lagged_Avg\n",
      "0         85123A                  NaN                   NaN\n",
      "1          71053                  NaN                   NaN\n",
      "2         84406B                  NaN                   NaN\n",
      "3         84029G                  NaN                   NaN\n",
      "4         84029E                  NaN                   NaN\n",
      "...          ...                  ...                   ...\n",
      "324742     22613             5.666667                  0.85\n",
      "324743     22899             3.666667                  2.10\n",
      "324744     23254             2.666667                  4.15\n",
      "324745     23255             3.333333                  4.15\n",
      "324746     22138             2.333333                  4.95\n",
      "\n",
      "[324747 rows x 3 columns]\n"
     ]
    }
   ],
   "source": [
    "print(online_retail_cleaned_no_cancellations[['StockCode', 'Quantity_Lagged_Avg', 'UnitPrice_Lagged_Avg']])\n"
   ]
  },
  {
   "cell_type": "code",
   "execution_count": 6,
   "metadata": {},
   "outputs": [],
   "source": [
    "import pandas as pd\n",
    "from sklearn.ensemble import RandomForestRegressor\n",
    "from sklearn.model_selection import train_test_split\n",
    "from sklearn.metrics import mean_absolute_error\n",
    "\n",
    "\n",
    "# Step 1: Convert 'InvoiceDate' to datetime\n",
    "online_retail_cleaned_no_cancellations['InvoiceDate'] = pd.to_datetime(online_retail_cleaned_no_cancellations['InvoiceDate'])\n",
    "\n",
    "# Step 2: Extract time-related features\n",
    "online_retail_cleaned_no_cancellations['Hour'] = online_retail_cleaned_no_cancellations['InvoiceDate'].dt.hour\n",
    "online_retail_cleaned_no_cancellations['Day'] = online_retail_cleaned_no_cancellations['InvoiceDate'].dt.dayofweek  # 0 = Monday, 6 = Sunday\n",
    "online_retail_cleaned_no_cancellations['Month'] = online_retail_cleaned_no_cancellations['InvoiceDate'].dt.month\n",
    "\n",
    "# Step 3: Encode 'StockCode'(Label Encoding or One-Hot Encoding)\n",
    "from sklearn.preprocessing import LabelEncoder\n",
    "label_encoder = LabelEncoder()\n",
    "# Encode 'StockCode'\n",
    "online_retail_cleaned_no_cancellations['StockCode_Encoded'] = label_encoder.fit_transform(online_retail_cleaned_no_cancellations['StockCode'])\n",
    "\n"
   ]
  },
  {
   "cell_type": "code",
   "execution_count": 7,
   "metadata": {},
   "outputs": [],
   "source": [
    "from sklearn.preprocessing import LabelEncoder\n",
    "import joblib\n",
    "\n",
    "#label_encoder_stockcode = LabelEncoder()\n",
    "#online_retail_cleaned_no_cancellations['StockCode_Encoded'] = label_encoder_stockcode.fit_transform(online_retail_cleaned_no_cancellations['StockCode'])\n"
   ]
  },
  {
   "cell_type": "markdown",
   "metadata": {},
   "source": [
    "## Trail\n"
   ]
  },
  {
   "cell_type": "code",
   "execution_count": 8,
   "metadata": {},
   "outputs": [
    {
     "name": "stdout",
     "output_type": "stream",
     "text": [
      "Random Forest with feature engineering:\n",
      "Mean Absolute Error (MAE): 0.0489\n",
      "Root Mean Squared Error (RMSE): 0.2313\n",
      "R-squared (R²): 0.9736\n",
      "\n",
      "Linear Regression with feature engineering:\n",
      "Mean Absolute Error (MAE): 0.1244\n",
      "Root Mean Squared Error (RMSE): 0.3602\n",
      "R-squared (R²): 0.9359\n"
     ]
    }
   ],
   "source": [
    "import pandas as pd\n",
    "import numpy as np\n",
    "from sklearn.preprocessing import LabelEncoder, StandardScaler\n",
    "from sklearn.impute import SimpleImputer\n",
    "from sklearn.ensemble import RandomForestRegressor\n",
    "from sklearn.linear_model import LinearRegression\n",
    "from sklearn.metrics import mean_absolute_error, mean_squared_error, r2_score\n",
    "from sklearn.model_selection import train_test_split\n",
    "from scipy.stats import zscore\n",
    "\n",
    "# Step 1: Handle Outliers\n",
    "# Detect outliers using Z-score method\n",
    "z_scores = np.abs(zscore(online_retail_cleaned_no_cancellations[['Quantity', 'UnitPrice(£)', 'Quantity_Lagged_Avg', 'UnitPrice_Lagged_Avg']]))\n",
    "outliers = (z_scores > 3).any(axis=1)\n",
    "cleaned_data = online_retail_cleaned_no_cancellations[~outliers]\n",
    "\n",
    "# Step 2: Handle Missing Values\n",
    "# Impute missing values using SimpleImputer with median strategy\n",
    "imputer = SimpleImputer(strategy='median')\n",
    "cleaned_data_imputed = cleaned_data.copy()\n",
    "\n",
    "# Apply imputation to the relevant features\n",
    "cleaned_data_imputed[['Quantity', 'UnitPrice(£)', 'Quantity_Lagged_Avg', 'UnitPrice_Lagged_Avg']] = imputer.fit_transform(\n",
    "    cleaned_data[['Quantity', 'UnitPrice(£)', 'Quantity_Lagged_Avg', 'UnitPrice_Lagged_Avg']])\n",
    "\n",
    "# Step 3: Feature Scaling\n",
    "# Use StandardScaler to scale features\n",
    "scaler = StandardScaler()\n",
    "scaled_features = scaler.fit_transform(cleaned_data_imputed[['Quantity', 'Quantity_Lagged_Avg', 'UnitPrice_Lagged_Avg']])\n",
    "\n",
    "# Replace the original features with scaled ones\n",
    "cleaned_data_imputed[['Quantity', 'Quantity_Lagged_Avg', 'UnitPrice_Lagged_Avg']] = scaled_features\n",
    "\n",
    "# Step 4: Create Interaction Features\n",
    "cleaned_data_imputed['Quantity_UnitPrice_Lagged_Avg'] = cleaned_data_imputed['Quantity'] * cleaned_data_imputed['UnitPrice_Lagged_Avg']\n",
    "\n",
    "# Step 5: Encode 'StockCode'\n",
    "label_encoder = LabelEncoder()\n",
    "cleaned_data_imputed['StockCode_Encoded'] = label_encoder.fit_transform(cleaned_data_imputed['StockCode'])\n",
    "\n",
    "# Prepare the input features (X) and target variable (y)\n",
    "X = cleaned_data_imputed[['StockCode_Encoded', 'Quantity', 'Hour', 'Day', 'Month', 'Quantity_Lagged_Avg', 'UnitPrice_Lagged_Avg', 'Quantity_UnitPrice_Lagged_Avg']]\n",
    "y = cleaned_data_imputed['UnitPrice(£)']\n",
    "\n",
    "# Step 6: Split the data into training and testing sets\n",
    "X_train, X_test, y_train, y_test = train_test_split(X, y, test_size=0.2, random_state=42)\n",
    "\n",
    "# Step 7: Train the Random Forest model\n",
    "rf_model = RandomForestRegressor(n_estimators=100, random_state=42)\n",
    "rf_model.fit(X_train, y_train)\n",
    "\n",
    "# Step 8: Evaluate the Random Forest model\n",
    "y_pred_rf = rf_model.predict(X_test)\n",
    "mae_rf = mean_absolute_error(y_test, y_pred_rf)\n",
    "rmse_rf = np.sqrt(mean_squared_error(y_test, y_pred_rf))\n",
    "r2_rf = r2_score(y_test, y_pred_rf)\n",
    "\n",
    "print(f\"Random Forest with feature engineering:\")\n",
    "print(f\"Mean Absolute Error (MAE): {mae_rf:.4f}\")\n",
    "print(f\"Root Mean Squared Error (RMSE): {rmse_rf:.4f}\")\n",
    "print(f\"R-squared (R²): {r2_rf:.4f}\")\n",
    "\n",
    "# Step 9: Train the Linear Regression model (for comparison)\n",
    "lr_model = LinearRegression()\n",
    "lr_model.fit(X_train, y_train)\n",
    "\n",
    "# Step 10: Evaluate the Linear Regression model\n",
    "y_pred_lr = lr_model.predict(X_test)\n",
    "mae_lr = mean_absolute_error(y_test, y_pred_lr)\n",
    "rmse_lr = np.sqrt(mean_squared_error(y_test, y_pred_lr))\n",
    "r2_lr = r2_score(y_test, y_pred_lr)\n",
    "\n",
    "print(f\"\\nLinear Regression with feature engineering:\")\n",
    "print(f\"Mean Absolute Error (MAE): {mae_lr:.4f}\")\n",
    "print(f\"Root Mean Squared Error (RMSE): {rmse_lr:.4f}\")\n",
    "print(f\"R-squared (R²): {r2_lr:.4f}\")\n",
    "\n"
   ]
  },
  {
   "cell_type": "code",
   "execution_count": null,
   "metadata": {},
   "outputs": [],
   "source": []
  },
  {
   "cell_type": "code",
   "execution_count": 9,
   "metadata": {},
   "outputs": [],
   "source": [
    "# Step 11: Predict Unit Price Function\n",
    "def predict_unit_price(stock_code, invoice_weekday, invoice_hour, invoice_month, historical_data, rf_model, scaler):\n",
    "    \"\"\"\n",
    "    Predicts the unit price of a stock dynamically based on customer inputs.\n",
    "\n",
    "    Args:\n",
    "        stock_code (int): The encoded stock code.\n",
    "        invoice_weekday (int): Day of the week (0 = Monday, ..., 6 = Sunday).\n",
    "        invoice_hour (int): Hour of the day in 24-hour format.\n",
    "        invoice_month (int): Month of the year (1 = January, ..., 12 = December).\n",
    "        historical_data (DataFrame): Historical data for lagged averages and scaling.\n",
    "        rf_model (RandomForestRegressor): Trained model.\n",
    "        scaler (StandardScaler): Fitted scaler for scaling numeric features.\n",
    "        \n",
    "    Returns:\n",
    "        float: Predicted unit price (£).\n",
    "    \"\"\"\n",
    "    # Filter data for the given stock code\n",
    "    stock_data = historical_data[historical_data['StockCode_Encoded'] == stock_code]\n",
    "    if stock_data.empty:\n",
    "        raise ValueError(f\"No historical data found for StockCode {stock_code}\")\n",
    "\n",
    "    # Calculate lagged averages\n",
    "    quantity_lagged_avg = stock_data['Quantity_Lagged_Avg'].mean()\n",
    "    unitprice_lagged_avg = stock_data['UnitPrice_Lagged_Avg'].mean()\n",
    "    quantity_unitprice_interaction = quantity_lagged_avg * unitprice_lagged_avg\n",
    "\n",
    "    # Create input feature\n",
    "    input_features = pd.DataFrame({\n",
    "        'StockCode_Encoded': [stock_code],\n",
    "        'Quantity': [quantity_lagged_avg],\n",
    "        'Hour': [invoice_hour],\n",
    "        'Day': [invoice_weekday],\n",
    "        'Month': [invoice_month],\n",
    "        'Quantity_Lagged_Avg': [quantity_lagged_avg],\n",
    "        'UnitPrice_Lagged_Avg': [unitprice_lagged_avg],\n",
    "        'Quantity_UnitPrice_Lagged_Avg': [quantity_unitprice_interaction]\n",
    "    })\n",
    "\n",
    "    # Scale numeric features\n",
    "    scaled_features = scaler.transform(input_features[['Quantity', 'Quantity_Lagged_Avg', 'UnitPrice_Lagged_Avg']])\n",
    "    input_features[['Quantity', 'Quantity_Lagged_Avg', 'UnitPrice_Lagged_Avg']] = scaled_features\n",
    "\n",
    "    # Predict using the model\n",
    "    predicted_price = rf_model.predict(input_features)\n",
    "    return predicted_price[0]\n",
    "\n"
   ]
  },
  {
   "cell_type": "code",
   "execution_count": 10,
   "metadata": {
    "tags": [
     "parameters"
    ]
   },
   "outputs": [
    {
     "name": "stdout",
     "output_type": "stream",
     "text": [
      "\n",
      "Predicted Unit Price for StockCode '85131D': £0.14\n"
     ]
    }
   ],
   "source": [
    "# Example Prediction\n",
    "stock_code_encoded = label_encoder.transform(['85131D'])[0]  #'85123A' with your desired stock code\n",
    "predicted_price = predict_unit_price(\n",
    "    stock_code=stock_code_encoded,\n",
    "    invoice_weekday=3,  # Wednesday\n",
    "    invoice_hour=17,    # 5 PM\n",
    "    invoice_month=12,   # December\n",
    "    historical_data=cleaned_data_imputed,\n",
    "    rf_model=rf_model,\n",
    "    scaler=scaler\n",
    ")\n",
    "print(f\"\\nPredicted Unit Price for StockCode '85131D': £{predicted_price:.2f}\")\n"
   ]
  },
  {
   "cell_type": "code",
   "execution_count": null,
   "metadata": {},
   "outputs": [],
   "source": []
  },
  {
   "cell_type": "code",
   "execution_count": null,
   "metadata": {},
   "outputs": [],
   "source": []
  },
  {
   "cell_type": "markdown",
   "metadata": {},
   "source": [
    "## Step 2: Price Prediction Model\n"
   ]
  },
  {
   "cell_type": "markdown",
   "metadata": {},
   "source": [
    "### With Feature Engineering"
   ]
  },
  {
   "cell_type": "code",
   "execution_count": 11,
   "metadata": {},
   "outputs": [
    {
     "name": "stdout",
     "output_type": "stream",
     "text": [
      "Random Forest with feature engineering:\n",
      "Mean Absolute Error (MAE): 0.0489\n",
      "Root Mean Squared Error (RMSE): 0.2312\n",
      "R-squared (R²): 0.9736\n",
      "\n",
      "Linear Regression with feature engineering:\n",
      "Mean Absolute Error (MAE): 0.1244\n",
      "Root Mean Squared Error (RMSE): 0.3602\n",
      "R-squared (R²): 0.9359\n"
     ]
    }
   ],
   "source": [
    "import pandas as pd\n",
    "import numpy as np\n",
    "from sklearn.preprocessing import StandardScaler\n",
    "from sklearn.metrics import mean_absolute_error, mean_squared_error, r2_score\n",
    "from scipy.stats import zscore\n",
    "from sklearn.impute import SimpleImputer\n",
    "from sklearn.model_selection import train_test_split\n",
    "from sklearn.ensemble import RandomForestRegressor\n",
    "from sklearn.linear_model import LinearRegression\n",
    "\n",
    "# Step 1: Handle Outliers\n",
    "# Detect outliers using Z-score method\n",
    "\n",
    "z_scores = np.abs(zscore(online_retail_cleaned_no_cancellations[['Quantity', 'UnitPrice(£)', 'Quantity_Lagged_Avg', 'UnitPrice_Lagged_Avg']]))\n",
    "outliers = (z_scores > 3).any(axis=1)\n",
    "cleaned_data = online_retail_cleaned_no_cancellations[~outliers]\n",
    "\n",
    "# Step 2: Handle Missing Values\n",
    "# Impute missing values using SimpleImputer with median strategy\n",
    "imputer = SimpleImputer(strategy='median')  # You can also try 'mean' or 'most_frequent'\n",
    "cleaned_data_imputed = cleaned_data.copy()\n",
    "\n",
    "# Apply imputation to the relevant features\n",
    "cleaned_data_imputed[['Quantity', 'UnitPrice(£)', 'Quantity_Lagged_Avg', 'UnitPrice_Lagged_Avg']] = imputer.fit_transform(\n",
    "    cleaned_data[['Quantity', 'UnitPrice(£)', 'Quantity_Lagged_Avg', 'UnitPrice_Lagged_Avg']])\n",
    "\n",
    "# Step 3: Feature Scaling\n",
    "# Use StandardScaler to scale features\n",
    "scaler = StandardScaler()\n",
    "scaled_features = scaler.fit_transform(cleaned_data_imputed[['Quantity', 'Quantity_Lagged_Avg', 'UnitPrice_Lagged_Avg']])\n",
    "\n",
    "# Replace the original features with scaled ones\n",
    "cleaned_data_imputed[['Quantity', 'Quantity_Lagged_Avg', 'UnitPrice_Lagged_Avg']] = scaled_features\n",
    "\n",
    "# Step 4: Create Interaction Features\n",
    "# Create a new feature as the interaction between Quantity and UnitPrice_Lagged_Avg\n",
    "cleaned_data_imputed['Quantity_UnitPrice_Lagged_Avg'] = cleaned_data_imputed['Quantity'] * cleaned_data_imputed['UnitPrice_Lagged_Avg']\n",
    "\n",
    "# Prepare the input features (X) and target variable (y)\n",
    "X = cleaned_data_imputed[['StockCode_Encoded', 'Quantity', 'InvoiceHour', 'InvoiceWeekday', 'InvoiceMonth', 'Quantity_Lagged_Avg', 'UnitPrice_Lagged_Avg', 'Quantity_UnitPrice_Lagged_Avg']]\n",
    "y = cleaned_data_imputed['UnitPrice(£)']\n",
    "\n",
    "# Step 5: Split the data into training and testing sets\n",
    "X_train, X_test, y_train, y_test = train_test_split(X, y, test_size=0.2, random_state=42)\n",
    "\n",
    "# Step 6: Train the Random Forest model\n",
    "rf_model = RandomForestRegressor(n_estimators=100, random_state=42)\n",
    "rf_model.fit(X_train, y_train)\n",
    "\n",
    "# Step 7: Evaluate the Random Forest model\n",
    "y_pred_rf = rf_model.predict(X_test)\n",
    "mae_rf = mean_absolute_error(y_test, y_pred_rf)\n",
    "rmse_rf = np.sqrt(mean_squared_error(y_test, y_pred_rf))\n",
    "r2_rf = r2_score(y_test, y_pred_rf)\n",
    "\n",
    "print(f\"Random Forest with feature engineering:\")\n",
    "print(f\"Mean Absolute Error (MAE): {mae_rf:.4f}\")\n",
    "print(f\"Root Mean Squared Error (RMSE): {rmse_rf:.4f}\")\n",
    "print(f\"R-squared (R²): {r2_rf:.4f}\")\n",
    "\n",
    "# Step 8: Train the Linear Regression model (for comparison)\n",
    "lr_model = LinearRegression()\n",
    "lr_model.fit(X_train, y_train)\n",
    "\n",
    "# Step 9: Evaluate the Linear Regression model\n",
    "y_pred_lr = lr_model.predict(X_test)\n",
    "mae_lr = mean_absolute_error(y_test, y_pred_lr)\n",
    "rmse_lr = np.sqrt(mean_squared_error(y_test, y_pred_lr))\n",
    "r2_lr = r2_score(y_test, y_pred_lr)\n",
    "\n",
    "print(f\"\\nLinear Regression with feature engineering:\")\n",
    "print(f\"Mean Absolute Error (MAE): {mae_lr:.4f}\")\n",
    "print(f\"Root Mean Squared Error (RMSE): {rmse_lr:.4f}\")\n",
    "print(f\"R-squared (R²): {r2_lr:.4f}\")\n"
   ]
  },
  {
   "cell_type": "code",
   "execution_count": null,
   "metadata": {},
   "outputs": [],
   "source": []
  },
  {
   "cell_type": "code",
   "execution_count": 12,
   "metadata": {},
   "outputs": [],
   "source": [
    "def predict_unit_price(stock_code, invoice_weekday, invoice_hour, invoice_month, historical_data, rf_model, scaler):\n",
    "    \"\"\"\n",
    "    Predicts the unit price of a stock dynamically based on customer inputs.\n",
    "\n",
    "    Args:\n",
    "        stock_code (str): The stock code (e.g., '85123A').\n",
    "        invoice_weekday (int): Day of the week (0 = Monday, ..., 6 = Sunday).\n",
    "        invoice_hour (int): Hour of the day in 24-hour format.\n",
    "        invoice_month (int): Month of the year (1 = January, ..., 12 = December).\n",
    "        historical_data (DataFrame): Historical data for lagged averages and scaling.\n",
    "        rf_model (RandomForestRegressor): Trained model.\n",
    "        scaler (StandardScaler): Fitted scaler for scaling numeric features.\n",
    "        \n",
    "    Returns:\n",
    "        float: Predicted unit price (£).\n",
    "    \"\"\"\n",
    "    # Filter data for the given stock code\n",
    "    stock_data = historical_data[historical_data['StockCode_Encoded'] == stock_code]\n",
    "    if stock_data.empty:\n",
    "        raise ValueError(f\"No historical data found for StockCode {stock_code}\")\n",
    "\n",
    "    # Calculate lagged averages\n",
    "    quantity_lagged_avg = stock_data['Quantity_Lagged_Avg'].mean()\n",
    "    unitprice_lagged_avg = stock_data['UnitPrice_Lagged_Avg'].mean()\n",
    "    quantity_unitprice_interaction = quantity_lagged_avg * unitprice_lagged_avg\n",
    "\n",
    "    # Create input feature\n",
    "    input_features = pd.DataFrame({\n",
    "        'StockCode_Encoded': [stock_code],\n",
    "        'Quantity': [quantity_lagged_avg],\n",
    "        'InvoiceHour': [invoice_hour],\n",
    "        'InvoiceWeekday': [invoice_weekday],\n",
    "        'InvoiceMonth': [invoice_month],\n",
    "        'Quantity_Lagged_Avg': [quantity_lagged_avg],\n",
    "        'UnitPrice_Lagged_Avg': [unitprice_lagged_avg],\n",
    "        'Quantity_UnitPrice_Lagged_Avg': [quantity_unitprice_interaction]\n",
    "    })\n",
    "\n",
    "    # Scale numeric features\n",
    "    scaled_features = scaler.transform(input_features[['Quantity', 'Quantity_Lagged_Avg', 'UnitPrice_Lagged_Avg']])\n",
    "    input_features[['Quantity', 'Quantity_Lagged_Avg', 'UnitPrice_Lagged_Avg']] = scaled_features\n",
    "\n",
    "    # Predict using the model\n",
    "    predicted_price = rf_model.predict(input_features)\n",
    "    return predicted_price[0]\n"
   ]
  },
  {
   "cell_type": "markdown",
   "metadata": {},
   "source": [
    "#### Saving the trained Model"
   ]
  },
  {
   "cell_type": "code",
   "execution_count": null,
   "metadata": {},
   "outputs": [
    {
     "data": {
      "text/plain": [
       "['label_encoder_stockcode.pkl']"
      ]
     },
     "execution_count": 9,
     "metadata": {},
     "output_type": "execute_result"
    }
   ],
   "source": [
    "#import joblib\n",
    "\n",
    "# Save the trained RandomForest model, scaler, and label encoder\n",
    "#joblib.dump(rf_model, 'random_forest_model.pkl')\n",
    "#joblib.dump(scaler, 'scaler.pkl')\n",
    "#joblib.dump(label_encoder, 'label_encoder.pkl')\n"
   ]
  },
  {
   "cell_type": "markdown",
   "metadata": {},
   "source": []
  },
  {
   "cell_type": "markdown",
   "metadata": {},
   "source": [
    "## 3. Build the Streamlit App:\n"
   ]
  },
  {
   "cell_type": "code",
   "execution_count": 53,
   "metadata": {},
   "outputs": [],
   "source": [
    "rf_model = joblib.load('C:\\Desktop\\Sales, Pricing, and Customer Behaviour Analysis\\scaler.pkl')\n"
   ]
  },
  {
   "cell_type": "code",
   "execution_count": null,
   "metadata": {},
   "outputs": [],
   "source": []
  },
  {
   "cell_type": "code",
   "execution_count": null,
   "metadata": {},
   "outputs": [],
   "source": [
    "import streamlit as st\n",
    "import pandas as pd\n",
    "import joblib\n",
    "import numpy as np\n",
    "# Load the trained model, scaler, and label encoder\n",
    "#rf_model = joblib.load('random_forest_model.pkl')\n",
    "#scaler = joblib.load('scaler.pkl')\n",
    "#label_encoder = joblib.load('label_encoder.pkl')\n",
    "\n",
    "# Title of the web app\n",
    "st.title('Unit Price Prediction for Stock')\n",
    "\n",
    "# Create input fields for the user\n",
    "stock_code = st.text_input('Enter Stock Code (e.g., \"85123A\")', '85123A')\n",
    "invoice_weekday = st.selectbox('Select Invoice Weekday', ['Monday', 'Tuesday', 'Wednesday', 'Thursday', 'Friday', 'Saturday', 'Sunday'])\n",
    "invoice_hour = st.slider('Select Invoice Hour', 0, 23, 15)  # Default to 3 PM (15:00)\n",
    "invoice_month = st.slider('Select Invoice Month', 1, 12, 11)  # Default to November\n",
    "\n",
    "# Mapping weekdays to integers (0=Monday, 6=Sunday)\n",
    "weekday_mapping = {\n",
    "    'Monday': 0, 'Tuesday': 1, 'Wednesday': 2, 'Thursday': 3,\n",
    "    'Friday': 4, 'Saturday': 5, 'Sunday': 6\n",
    "}\n",
    "invoice_weekday_int = weekday_mapping[invoice_weekday]\n",
    "\n",
    "# When the user presses the button to predict\n",
    "if st.button('Predict Unit Price'):\n",
    "    # Encode the stock code\n",
    "    stock_code_encoded = label_encoder.transform([stock_code])[0]\n",
    "\n",
    "    # Create the input features (replace lagged values with actual user input if available)\n",
    "    input_features = pd.DataFrame({\n",
    "        'StockCode_Encoded': [stock_code_encoded],\n",
    "        'Quantity': [0],  # You can replace this with actual input from the user\n",
    "        'InvoiceHour': [invoice_hour],\n",
    "        'InvoiceWeekday': [invoice_weekday_int],\n",
    "        'InvoiceMonth': [invoice_month],\n",
    "        'Quantity_Lagged_Avg': [0],  # Replace with actual input if available\n",
    "        'UnitPrice_Lagged_Avg': [0],  # Replace with actual input if available\n",
    "        'Quantity_UnitPrice_Lagged_Avg': [0]  # Replace with actual input if available\n",
    "    })\n",
    "\n",
    "    # Scale the features\n",
    "    scaled_features = scaler.transform(input_features[['Quantity', 'Quantity_Lagged_Avg', 'UnitPrice_Lagged_Avg']])\n",
    "    input_features[['Quantity', 'Quantity_Lagged_Avg', 'UnitPrice_Lagged_Avg']] = scaled_features\n",
    "\n",
    "    # Make prediction\n",
    "    predicted_price = rf_model.predict(input_features)\n",
    "\n",
    "    # Display the predicted price to the user\n",
    "    st.write(f\"Predicted Unit Price for StockCode {stock_code} on {invoice_weekday} at {invoice_hour}:00 is: £{predicted_price[0]:.2f}\")\n",
    "\n"
   ]
  },
  {
   "cell_type": "code",
   "execution_count": null,
   "metadata": {},
   "outputs": [],
   "source": []
  }
 ],
 "metadata": {
  "kernelspec": {
   "display_name": "base",
   "language": "python",
   "name": "python3"
  },
  "language_info": {
   "codemirror_mode": {
    "name": "ipython",
    "version": 3
   },
   "file_extension": ".py",
   "mimetype": "text/x-python",
   "name": "python",
   "nbconvert_exporter": "python",
   "pygments_lexer": "ipython3",
   "version": "3.11.7"
  }
 },
 "nbformat": 4,
 "nbformat_minor": 2
}
